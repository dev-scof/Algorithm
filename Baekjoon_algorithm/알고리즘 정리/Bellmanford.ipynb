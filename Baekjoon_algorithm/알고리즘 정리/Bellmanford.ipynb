{
 "cells": [
  {
   "attachments": {},
   "cell_type": "markdown",
   "metadata": {},
   "source": [
    "# 벨만포드 알고리즘\n",
    "> 음의 간선이 포함된 그래프에서 최단경로를 찾을 때 사용할 수 있는 알고리즘\n",
    "> \n",
    "\n",
    "## 시간 복잡도\n",
    "\n",
    "> 모든 간선을 확인하기 때문에 다음과 같은 시간이 걸린다.\n",
    "다익스트라는 O(V)만큼의 시간이 걸린다.\n",
    "> \n",
    "- O(VE)\n",
    "\n",
    "## 구현\n",
    "\n",
    "1. 출발노드 지정\n",
    "2. 최단 거리 테이블 초기화\n",
    "3. 다음을 N - 1번 반복\n",
    "    1. 전체 간선 E개를 하나씩 확인한다.\n",
    "    2. 각 간선을 거쳐 다른 노드로 가는 비용을 계산하여 최단 거리 테이블을 갱신\n",
    "- 만약 음수 간선 순환이 발생하는지 체크하려면 3번의 과정을 한번 더 수행한다.\n",
    "    - 이때 최단 거리 테이블이 갱신된다면 음수 간선 순환이 존재하는 것이다."
   ]
  },
  {
   "cell_type": "code",
   "execution_count": 4,
   "metadata": {},
   "outputs": [],
   "source": [
    "# 그래프 생성\n",
    "import heapq\n",
    "INF = 1e9\n",
    "N, M = map(int, input().split())\n",
    "graph = {}\n",
    "dist = [INF]*(N+1)\n",
    "for _ in range(M):\n",
    "    a, b, c = map(int, input().split())\n",
    "    graph[a] = graph.get(a, [])\n",
    "    graph[a].append((b, c))"
   ]
  },
  {
   "cell_type": "code",
   "execution_count": 7,
   "metadata": {},
   "outputs": [
    {
     "name": "stdout",
     "output_type": "stream",
     "text": [
      "4\n",
      "3\n"
     ]
    }
   ],
   "source": [
    "# 벨만포드 알고리즘\n",
    "def bellman_ford(S):\n",
    "    # 처음 정점의 최단경로는 0 지정\n",
    "    dist[S] = 0\n",
    "    # n번의 라운드 반복\n",
    "    for n in range(N):\n",
    "        # 모든 간선을 확인한다.\n",
    "        for key, edges in graph.items():\n",
    "            # 현재 key에 해당하는 edge에 대해 반복한다\n",
    "            for edge in edges:\n",
    "                # cost : key를 거쳐서 다른 노드(edge[0])으로 가는 비용\n",
    "                cost = dist[key]+edge[1]\n",
    "                # 현재 정점의 최단경로가 INF가 아니고\n",
    "                # '다음 정점의 최단거리'보다 '현재 정점 key를 지나는 비용'이 더 적으면 -> 갱신\n",
    "                if dist[key] != INF and dist[edge[0]] > cost:\n",
    "                    dist[edge[0]] = cost\n",
    "                    if n == N-1:\n",
    "                        return True\n",
    "    return False\n",
    "\n",
    "if bellman_ford(1):\n",
    "    print(-1)\n",
    "else:\n",
    "    for i in range(2, N + 1):\n",
    "        # 도달할 수 없는 경우, -1 출력\n",
    "        if dist[i] == INF:\n",
    "            print(\"-1\")\n",
    "        # 도달할 수 있으면 거리 출력\n",
    "        else:\n",
    "            print(dist[i])"
   ]
  },
  {
   "cell_type": "code",
   "execution_count": null,
   "metadata": {},
   "outputs": [],
   "source": []
  }
 ],
 "metadata": {
  "kernelspec": {
   "display_name": "Python 3",
   "language": "python",
   "name": "python3"
  },
  "language_info": {
   "codemirror_mode": {
    "name": "ipython",
    "version": 3
   },
   "file_extension": ".py",
   "mimetype": "text/x-python",
   "name": "python",
   "nbconvert_exporter": "python",
   "pygments_lexer": "ipython3",
   "version": "3.10.6"
  },
  "orig_nbformat": 4
 },
 "nbformat": 4,
 "nbformat_minor": 2
}
