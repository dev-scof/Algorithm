{
 "cells": [
  {
   "cell_type": "markdown",
   "id": "1e757505",
   "metadata": {},
   "source": [
    "# DFS와 BFS - 1260"
   ]
  },
  {
   "cell_type": "markdown",
   "id": "b97e8c41",
   "metadata": {},
   "source": [
    "1. 그래프 생성"
   ]
  },
  {
   "cell_type": "code",
   "execution_count": 2,
   "id": "3b2c721e",
   "metadata": {},
   "outputs": [
    {
     "name": "stdout",
     "output_type": "stream",
     "text": [
      "4 5 1\n",
      "1 2\n",
      "1 3\n",
      "1 4\n",
      "2 4\n",
      "3 4\n"
     ]
    }
   ],
   "source": [
    "N, M, V = map(int, input().split())\n",
    "graph = {}\n",
    "for _ in range(M):\n",
    "    u, v = map(int, input().split())\n",
    "    # 양방향 그래프\n",
    "    graph[u] = graph.get(u, [])+[v]\n",
    "    graph[v] = graph.get(v, [])+[u]"
   ]
  },
  {
   "cell_type": "markdown",
   "id": "81fa3e1f",
   "metadata": {},
   "source": [
    "2. 그래프 정렬\n",
    "문제에서 방문할 수 있는 정점이 여러개인 경우에는 -> 정점 번호가 작은 것을 먼저 방문하라고 함<br>\n",
    "즉, 각 정점에 연결된 간선을 오름차순으로 정렬해야 한다."
   ]
  },
  {
   "cell_type": "code",
   "execution_count": 3,
   "id": "9d57e447",
   "metadata": {},
   "outputs": [],
   "source": [
    "for v in graph:\n",
    "    graph[v].sort()"
   ]
  },
  {
   "cell_type": "markdown",
   "id": "896d3d9e",
   "metadata": {},
   "source": [
    "### DFS 함수 정의\n",
    "1. 첫번째 노드를 출력하고 방문처리 한다.\n",
    "2. 노드에 연결된 정점에 대해 다음을 반복한다.\n",
    "    - 정점이 방문되지 않았다면 // visited에 포함되지 않았다면\n",
    "        -> dfs를 수행한다."
   ]
  },
  {
   "cell_type": "code",
   "execution_count": 5,
   "id": "850a7cb8",
   "metadata": {},
   "outputs": [],
   "source": [
    "# dfs를 수행하기 위한 visited 변수\n",
    "dfs_visited=set()\n",
    "\n",
    "def dfs(s):\n",
    "    # 1. 먼저 방문\n",
    "    print(s, end=' ')\n",
    "    # 2. 방문처리\n",
    "    dfs_visited.add(s)\n",
    "    \n",
    "    # 그래프에 없을 경우 -> 아무것도 안함(반환)\n",
    "    if s not in graph:\n",
    "        return\n",
    "\n",
    "    for v in graph[s]:\n",
    "        # 현재 정점에 연결된 간선에 대해 반복\n",
    "        if v not in dfs_visited:\n",
    "            # 만약 연결된 간선이 아직 방문되지 않았다면 -> dfs수행\n",
    "            dfs(v)"
   ]
  },
  {
   "cell_type": "code",
   "execution_count": 6,
   "id": "e1a25636",
   "metadata": {},
   "outputs": [
    {
     "name": "stdout",
     "output_type": "stream",
     "text": [
      "1 2 4 3 "
     ]
    }
   ],
   "source": [
    "dfs(V)"
   ]
  },
  {
   "cell_type": "markdown",
   "id": "82eb1d74",
   "metadata": {},
   "source": [
    "### BFS 함수 정의"
   ]
  },
  {
   "cell_type": "code",
   "execution_count": 9,
   "id": "59d90426",
   "metadata": {},
   "outputs": [],
   "source": [
    "from collections import deque\n",
    "def bfs(s):\n",
    "    # bfs를 위한 큐 및 visited 변수\n",
    "    queue = deque()\n",
    "    bfs_visited=set()\n",
    "    # 큐에 시작 정점을 넣고 시작\n",
    "    queue.append(s)\n",
    "    # 큐가 빌때까지 반복\n",
    "    while queue:\n",
    "        # 큐에서 가져오고 출력\n",
    "        cur = queue.popleft()\n",
    "        print(cur, end=' ')\n",
    "        \n",
    "        # 만약 정점이 그래프에 없는 경우 -> 마지막 정점임\n",
    "        if cur not in graph:\n",
    "            continue\n",
    "            \n",
    "        # 만약 정점이 방문되지 않았다면\n",
    "        if cur not in bfs_visited:\n",
    "            # 연결된 간선에 대한 모든 정점을 방문처리함\n",
    "            bfs_visited|=set(graph[cur])\n",
    "            # 모든 연결된 정점을 큐에 넣음\n",
    "            queue.extend(graph[cur])"
   ]
  },
  {
   "cell_type": "code",
   "execution_count": 10,
   "id": "745c1e40",
   "metadata": {},
   "outputs": [
    {
     "name": "stdout",
     "output_type": "stream",
     "text": [
      "1 2 3 4 "
     ]
    }
   ],
   "source": [
    "bfs(V)"
   ]
  },
  {
   "cell_type": "code",
   "execution_count": null,
   "id": "37c89270",
   "metadata": {},
   "outputs": [],
   "source": []
  }
 ],
 "metadata": {
  "kernelspec": {
   "display_name": "Python 3 (ipykernel)",
   "language": "python",
   "name": "python3"
  },
  "language_info": {
   "codemirror_mode": {
    "name": "ipython",
    "version": 3
   },
   "file_extension": ".py",
   "mimetype": "text/x-python",
   "name": "python",
   "nbconvert_exporter": "python",
   "pygments_lexer": "ipython3",
   "version": "3.10.6"
  }
 },
 "nbformat": 4,
 "nbformat_minor": 5
}
